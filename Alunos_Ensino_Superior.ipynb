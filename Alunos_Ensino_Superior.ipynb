{
 "cells": [
  {
   "cell_type": "markdown",
   "metadata": {},
   "source": [
    "# Importando as Bibliotecas necessarias"
   ]
  },
  {
   "cell_type": "code",
   "execution_count": 1,
   "metadata": {},
   "outputs": [],
   "source": [
    "import pandas as pd\n",
    "import matplotlib.pyplot as plt"
   ]
  },
  {
   "cell_type": "markdown",
   "metadata": {},
   "source": [
    "# Pegando os dados para a analise"
   ]
  },
  {
   "cell_type": "code",
   "execution_count": 2,
   "metadata": {},
   "outputs": [],
   "source": [
    "df_dados2014 = pd.read_csv ('DM_ALUNO2014.CSV', delimiter = '|', encoding = 'iso-8859-1', usecols = ['CO_TIPO_ESCOLA_ENS_MEDIO'])\n",
    "df_dados2015 = pd.read_csv ('DM_ALUNO2015.CSV', delimiter = '|', encoding = 'iso-8859-1', usecols = ['CO_TIPO_ESCOLA_ENS_MEDIO'])\n",
    "df_dados2016 = pd.read_csv ('DM_ALUNO2016.CSV', delimiter = '|', encoding = 'iso-8859-1', usecols = ['CO_TIPO_ESCOLA_ENS_MEDIO'])\n",
    "df_dados2017 = pd.read_csv ('DM_ALUNO2017.CSV', delimiter = '|', encoding = 'iso-8859-1', usecols = ['TP_ESCOLA_CONCLUSAO_ENS_MEDIO'])\n",
    "df_dados2018 = pd.read_csv ('DM_ALUNO2018.CSV', delimiter = '|', encoding = 'iso-8859-1', usecols = ['TP_ESCOLA_CONCLUSAO_ENS_MEDIO'])"
   ]
  },
  {
   "cell_type": "markdown",
   "metadata": {},
   "source": [
    "# Contando os Alunos que vieram do Ensino Publico"
   ]
  },
  {
   "cell_type": "code",
   "execution_count": 3,
   "metadata": {},
   "outputs": [],
   "source": [
    "PUB2014 = (df_dados2014.query('CO_TIPO_ESCOLA_ENS_MEDIO == 1')['CO_TIPO_ESCOLA_ENS_MEDIO'].count())\n",
    "PUB2015 = (df_dados2015.query('CO_TIPO_ESCOLA_ENS_MEDIO == 1')['CO_TIPO_ESCOLA_ENS_MEDIO'].count())\n",
    "PUB2016 = (df_dados2016.query('CO_TIPO_ESCOLA_ENS_MEDIO == 1')['CO_TIPO_ESCOLA_ENS_MEDIO'].count())\n",
    "PUB2017 = (df_dados2017.query('TP_ESCOLA_CONCLUSAO_ENS_MEDIO == 2')['TP_ESCOLA_CONCLUSAO_ENS_MEDIO'].count())\n",
    "PUB2018 = (df_dados2018.query('TP_ESCOLA_CONCLUSAO_ENS_MEDIO == 2')['TP_ESCOLA_CONCLUSAO_ENS_MEDIO'].count())"
   ]
  },
  {
   "cell_type": "markdown",
   "metadata": {},
   "source": [
    "# Contando os Alunos que vieram do Ensino Privado"
   ]
  },
  {
   "cell_type": "code",
   "execution_count": 4,
   "metadata": {},
   "outputs": [],
   "source": [
    "PRIV2014 = (df_dados2014.query('CO_TIPO_ESCOLA_ENS_MEDIO == 0')['CO_TIPO_ESCOLA_ENS_MEDIO'].count())\n",
    "PRIV2015 = (df_dados2015.query('CO_TIPO_ESCOLA_ENS_MEDIO == 0')['CO_TIPO_ESCOLA_ENS_MEDIO'].count())\n",
    "PRIV2016 = (df_dados2016.query('CO_TIPO_ESCOLA_ENS_MEDIO == 0')['CO_TIPO_ESCOLA_ENS_MEDIO'].count())\n",
    "PRIV2017 = (df_dados2017.query('TP_ESCOLA_CONCLUSAO_ENS_MEDIO == 1')['TP_ESCOLA_CONCLUSAO_ENS_MEDIO'].count())\n",
    "PRIV2018 = (df_dados2018.query('TP_ESCOLA_CONCLUSAO_ENS_MEDIO == 1')['TP_ESCOLA_CONCLUSAO_ENS_MEDIO'].count())"
   ]
  },
  {
   "cell_type": "markdown",
   "metadata": {},
   "source": [
    "# Criando os graficos"
   ]
  },
  {
   "cell_type": "code",
   "execution_count": 54,
   "metadata": {},
   "outputs": [
    {
     "data": {
      "image/png": "[encoded data removed]",
      "text/plain": [
       "<Figure size 432x288 with 1 Axes>"
      ]
     },
     "metadata": {
      "needs_background": "light"
     },
     "output_type": "display_data"
    },
    {
     "name": "stdout",
     "output_type": "stream",
     "text": [
      "Em 2014 \u001b[0;32m6545570 alunos\u001b[m que ingressaram na faculdade vieram do \u001b[0;34mensino publico\u001b[m.\n",
      "E \u001b[0;32m2931811 alunos\u001b[m vieram do \u001b[0;31mensino privado\u001b[m.\n",
      "\n",
      "Em 2015 \u001b[0;32m7194841 alunos\u001b[m que ingressaram na faculdade vieram do \u001b[0;34mensino publico\u001b[m.\n",
      "E \u001b[0;32m3243557 alunos\u001b[m vieram do \u001b[0;31mensino privado\u001b[m.\n",
      "\n",
      "Em 2016 \u001b[0;32m7703101 alunos\u001b[m que ingressaram na faculdade vieram do \u001b[0;34mensino publico\u001b[m.\n",
      "E \u001b[0;32m3349592 alunos\u001b[m vieram do \u001b[0;31mensino privado\u001b[m.\n",
      "\n",
      "Em 2017 \u001b[0;32m3531614 alunos\u001b[m que ingressaram na faculdade vieram do \u001b[0;34mensino publico\u001b[m.\n",
      "E \u001b[0;32m7853289 alunos\u001b[m vieram do \u001b[0;31mensino privado\u001b[m.\n",
      "\n",
      "Em 2018 \u001b[0;32m3512508 alunos\u001b[m que ingressaram na faculdade vieram do \u001b[0;34mensino publico\u001b[m.\n",
      "E \u001b[0;32m8417348 alunos\u001b[m vieram do \u001b[0;31mensino privado\u001b[m.\n",
      "\n"
     ]
    }
   ],
   "source": [
    "x1 = [2014.1, 2015.1, 2016.1, 2017.1, 2018.1]\n",
    "x2 = [2014, 2015, 2016, 2017, 2018]\n",
    "y1 = [(PUB2014),(PUB2015),(PUB2016),(PUB2017),(PUB2018)]\n",
    "y2 = [(PRIV2014),(PRIV2015),(PRIV2016),(PRIV2017),(PRIV2018)]\n",
    "\n",
    "plt.title('Alunos do Ensino Superior')\n",
    "plt.xlabel('ANOS')\n",
    "plt.ylabel('ALUNOS')\n",
    "plt.bar(x1, y1, label ='Alunos quem vieram do Ensino Publico')\n",
    "plt.bar(x2, y2, label ='Alunos que vieram do Ensino Privado')\n",
    "plt.legend(bbox_to_anchor = (1.01, 1),loc='upper left', borderaxespad=0.)\n",
    "plt.show()\n",
    "\n",
    "print(f'Em 2014 \\033[0;32m{PUB2014} alunos\\033[m que ingressaram na faculdade vieram do \\033[0;34mensino publico\\033[m.\\nE \\033[0;32m{PRIV2014} alunos\\033[m vieram do \\033[0;31mensino privado\\033[m.\\n')\n",
    "print(f'Em 2015 \\033[0;32m{PUB2015} alunos\\033[m que ingressaram na faculdade vieram do \\033[0;34mensino publico\\033[m.\\nE \\033[0;32m{PRIV2015} alunos\\033[m vieram do \\033[0;31mensino privado\\033[m.\\n')\n",
    "print(f'Em 2016 \\033[0;32m{PUB2016} alunos\\033[m que ingressaram na faculdade vieram do \\033[0;34mensino publico\\033[m.\\nE \\033[0;32m{PRIV2016} alunos\\033[m vieram do \\033[0;31mensino privado\\033[m.\\n')\n",
    "print(f'Em 2017 \\033[0;32m{PUB2017} alunos\\033[m que ingressaram na faculdade vieram do \\033[0;34mensino publico\\033[m.\\nE \\033[0;32m{PRIV2017} alunos\\033[m vieram do \\033[0;31mensino privado\\033[m.\\n')\n",
    "print(f'Em 2018 \\033[0;32m{PUB2018} alunos\\033[m que ingressaram na faculdade vieram do \\033[0;34mensino publico\\033[m.\\nE \\033[0;32m{PRIV2018} alunos\\033[m vieram do \\033[0;31mensino privado\\033[m.\\n')"
   ]
  },
  {
   "cell_type": "code",
   "execution_count": null,
   "metadata": {},
   "outputs": [],
   "source": []
  }
 ],
 "metadata": {
  "kernelspec": {
   "display_name": "Python 3",
   "language": "python",
   "name": "python3"
  },
  "language_info": {
   "codemirror_mode": {
    "name": "ipython",
    "version": 3
   },
   "file_extension": ".py",
   "mimetype": "text/x-python",
   "name": "python",
   "nbconvert_exporter": "python",
   "pygments_lexer": "ipython3",
   "version": "3.7.4"
  }
 },
 "nbformat": 4,
 "nbformat_minor": 2
}
